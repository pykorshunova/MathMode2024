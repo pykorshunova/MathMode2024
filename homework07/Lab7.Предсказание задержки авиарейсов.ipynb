{
 "cells": [
  {
   "cell_type": "markdown",
   "id": "4f4077cb-f29a-488a-9859-6a5670e9dec9",
   "metadata": {},
   "source": [
    "# Коршунова Полина Юрьевна, НММбд-01-22"
   ]
  },
  {
   "cell_type": "markdown",
   "id": "3238b3c5-2f73-446c-8b7c-b1386ab713be",
   "metadata": {},
   "source": [
    "## Pandas"
   ]
  },
  {
   "cell_type": "code",
   "execution_count": 19,
   "id": "4ebeb2b9-b5ad-4a95-a980-be64d69bea34",
   "metadata": {},
   "outputs": [],
   "source": [
    "import pandas as pd\n",
    "pd.options.mode.chained_assignment = None"
   ]
  },
  {
   "cell_type": "code",
   "execution_count": 20,
   "id": "61dd2c0b-0278-43a4-a817-a964541298b0",
   "metadata": {},
   "outputs": [
    {
     "data": {
      "text/html": [
       "<div>\n",
       "<style scoped>\n",
       "    .dataframe tbody tr th:only-of-type {\n",
       "        vertical-align: middle;\n",
       "    }\n",
       "\n",
       "    .dataframe tbody tr th {\n",
       "        vertical-align: top;\n",
       "    }\n",
       "\n",
       "    .dataframe thead th {\n",
       "        text-align: right;\n",
       "    }\n",
       "</style>\n",
       "<table border=\"1\" class=\"dataframe\">\n",
       "  <thead>\n",
       "    <tr style=\"text-align: right;\">\n",
       "      <th></th>\n",
       "      <th>Year,Month,DayofMonth,DayOfWeek,DepTime,CRSDepTime,ArrTime,CRSArrTime,UniqueCarrier,FlightNum,TailNum,ActualElapsedTime,CRSElapsedTime,AirTime,ArrDelay,DepDelay,Origin,Dest,Distance,TaxiIn,TaxiOut,Cancelled,CancellationCode,Diverted,CarrierDelay,WeatherDelay,NASDelay,SecurityDelay,LateAircraftDelay</th>\n",
       "    </tr>\n",
       "  </thead>\n",
       "  <tbody>\n",
       "    <tr>\n",
       "      <th>0</th>\n",
       "      <td>2008,6,18,3,2111.0,2055,2308.0,2300,WN,242,N69...</td>\n",
       "    </tr>\n",
       "    <tr>\n",
       "      <th>1</th>\n",
       "      <td>2008,6,4,3,1426.0,1410,1730.0,1728,XE,2380,N15...</td>\n",
       "    </tr>\n",
       "    <tr>\n",
       "      <th>2</th>\n",
       "      <td>2008,8,3,7,1143.0,1145,1501.0,1520,WN,1769,N46...</td>\n",
       "    </tr>\n",
       "    <tr>\n",
       "      <th>3</th>\n",
       "      <td>2008,1,23,3,1141.0,1144,1323.0,1335,OO,3802,N4...</td>\n",
       "    </tr>\n",
       "    <tr>\n",
       "      <th>4</th>\n",
       "      <td>2008,5,4,7,815.0,820,1243.0,1300,WN,399,N489WN...</td>\n",
       "    </tr>\n",
       "    <tr>\n",
       "      <th>...</th>\n",
       "      <td>...</td>\n",
       "    </tr>\n",
       "    <tr>\n",
       "      <th>69995</th>\n",
       "      <td>2008,5,12,1,1829.0,1840,2137.0,2149,DL,794,N98...</td>\n",
       "    </tr>\n",
       "    <tr>\n",
       "      <th>69996</th>\n",
       "      <td>2008,5,11,7,1149.0,1125,1336.0,1314,OO,6159,N7...</td>\n",
       "    </tr>\n",
       "    <tr>\n",
       "      <th>69997</th>\n",
       "      <td>2008,9,24,3,1012.0,1012,1132.0,1132,YV,7058,N7...</td>\n",
       "    </tr>\n",
       "    <tr>\n",
       "      <th>69998</th>\n",
       "      <td>2008,2,18,1,1906.0,1900,2200.0,2139,NW,641,N31...</td>\n",
       "    </tr>\n",
       "    <tr>\n",
       "      <th>69999</th>\n",
       "      <td>2008,12,6,6,859.0,900,959.0,1005,WN,510,N786SW...</td>\n",
       "    </tr>\n",
       "  </tbody>\n",
       "</table>\n",
       "<p>70000 rows × 1 columns</p>\n",
       "</div>"
      ],
      "text/plain": [
       "      Year,Month,DayofMonth,DayOfWeek,DepTime,CRSDepTime,ArrTime,CRSArrTime,UniqueCarrier,FlightNum,TailNum,ActualElapsedTime,CRSElapsedTime,AirTime,ArrDelay,DepDelay,Origin,Dest,Distance,TaxiIn,TaxiOut,Cancelled,CancellationCode,Diverted,CarrierDelay,WeatherDelay,NASDelay,SecurityDelay,LateAircraftDelay\n",
       "0      2008,6,18,3,2111.0,2055,2308.0,2300,WN,242,N69...                                                                                                                                                                                                                                                         \n",
       "1      2008,6,4,3,1426.0,1410,1730.0,1728,XE,2380,N15...                                                                                                                                                                                                                                                         \n",
       "2      2008,8,3,7,1143.0,1145,1501.0,1520,WN,1769,N46...                                                                                                                                                                                                                                                         \n",
       "3      2008,1,23,3,1141.0,1144,1323.0,1335,OO,3802,N4...                                                                                                                                                                                                                                                         \n",
       "4      2008,5,4,7,815.0,820,1243.0,1300,WN,399,N489WN...                                                                                                                                                                                                                                                         \n",
       "...                                                  ...                                                                                                                                                                                                                                                         \n",
       "69995  2008,5,12,1,1829.0,1840,2137.0,2149,DL,794,N98...                                                                                                                                                                                                                                                         \n",
       "69996  2008,5,11,7,1149.0,1125,1336.0,1314,OO,6159,N7...                                                                                                                                                                                                                                                         \n",
       "69997  2008,9,24,3,1012.0,1012,1132.0,1132,YV,7058,N7...                                                                                                                                                                                                                                                         \n",
       "69998  2008,2,18,1,1906.0,1900,2200.0,2139,NW,641,N31...                                                                                                                                                                                                                                                         \n",
       "69999  2008,12,6,6,859.0,900,959.0,1005,WN,510,N786SW...                                                                                                                                                                                                                                                         \n",
       "\n",
       "[70000 rows x 1 columns]"
      ]
     },
     "execution_count": 20,
     "metadata": {},
     "output_type": "execute_result"
    }
   ],
   "source": [
    "df = pd.read_csv('/Users/polinakorshunova/Downloads/2008.csv', sep='\\t')\n",
    "df"
   ]
  },
  {
   "cell_type": "markdown",
   "id": "1652e7fa-70a4-4594-8b10-79223fd5d7cd",
   "metadata": {},
   "source": [
    "1. Какая из причин отмены рейса (CancellationCode) была самой частой? "
   ]
  },
  {
   "cell_type": "code",
   "execution_count": 22,
   "id": "c2074e39-5fd3-40b0-a315-fc86441757c1",
   "metadata": {},
   "outputs": [
    {
     "name": "stdout",
     "output_type": "stream",
     "text": [
      "Самая частая причина отмены рейса: A\n"
     ]
    }
   ],
   "source": [
    "data = pd.read_csv('/Users/polinakorshunova/Downloads/2008.csv')\n",
    "\n",
    "частая_причина_отмены = data['CancellationCode'].mode()[0]\n",
    "\n",
    "print(f\"Самая частая причина отмены рейса: {частая_причина_отмены}\")"
   ]
  },
  {
   "cell_type": "markdown",
   "id": "10105ebd-4ada-4b25-beb3-534edf82b650",
   "metadata": {},
   "source": [
    "Получается, самая частая причина отмена рейса - carrier (перевозчик)"
   ]
  },
  {
   "cell_type": "markdown",
   "id": "c273c5a1-5a0a-409f-852b-132bc1163e26",
   "metadata": {},
   "source": [
    "2. Найдите среднее, минимальное и максимальное расстояние, пройденное самолетом."
   ]
  },
  {
   "cell_type": "code",
   "execution_count": 23,
   "id": "d2480c39-e324-4941-bc17-6b4bf3398f36",
   "metadata": {},
   "outputs": [
    {
     "name": "stdout",
     "output_type": "stream",
     "text": [
      "Среднее значение: 724.5082571428571\n",
      "Минимальное значение: 31\n",
      "Максимальное значение: 4962\n"
     ]
    }
   ],
   "source": [
    "column_name = 'Distance'\n",
    "\n",
    "среднее = data[column_name].mean()\n",
    "\n",
    "минимальное = data[column_name].min()\n",
    "\n",
    "максимальное = data[column_name].max()\n",
    "\n",
    "print(f\"Среднее значение: {среднее}\")\n",
    "print(f\"Минимальное значение: {минимальное}\")\n",
    "print(f\"Максимальное значение: {максимальное}\")"
   ]
  },
  {
   "cell_type": "markdown",
   "id": "c2d2ce0c-2921-46e0-9128-1a2f3b099e1e",
   "metadata": {},
   "source": [
    "3. Не выглядит ли подозрительным минимальное пройденное расстояние? В какие дни и на каких рейсах оно было? Какое расстояние было пройдено этими же рейсами в другие дни?"
   ]
  },
  {
   "cell_type": "code",
   "execution_count": 24,
   "id": "29287346-8dee-4fe8-8d9b-42eb5b5e0b0c",
   "metadata": {},
   "outputs": [
    {
     "name": "stdout",
     "output_type": "stream",
     "text": [
      "Минимальное расстояние: 31\n",
      "Дни и рейсы с минимальным расстоянием:\n",
      "       DayofMonth  DayOfWeek  FlightNum\n",
      "1116           30          2         65\n",
      "6958           26          5         65\n",
      "17349          18          1         64\n",
      "27534          11          2         64\n",
      "46082           9          6         65\n",
      "48112          28          4         64\n"
     ]
    }
   ],
   "source": [
    "min_distance = data['Distance'].min()\n",
    "\n",
    "# Фильтруем данные, чтобы найти информацию о днях и рейсах с минимальным расстоянием\n",
    "min_distance_flights = data[data['Distance'] == min_distance][['DayofMonth', 'DayOfWeek', 'FlightNum']]\n",
    "\n",
    "print(f\"Минимальное расстояние: {min_distance}\")\n",
    "print(\"Дни и рейсы с минимальным расстоянием:\")\n",
    "print(min_distance_flights)\n"
   ]
  },
  {
   "cell_type": "markdown",
   "id": "9ee83190-c0c4-4fa5-a8cd-45fbc2083259",
   "metadata": {},
   "source": [
    "4. Из какого аэропорта было произведено больше всего вылетов? В каком городе он находится?"
   ]
  },
  {
   "cell_type": "code",
   "execution_count": 25,
   "id": "58f7ffed-8304-439c-b7c3-ee92b4c32787",
   "metadata": {},
   "outputs": [
    {
     "name": "stdout",
     "output_type": "stream",
     "text": [
      "Аэропорт с наибольшим количеством вылетов: ATL\n"
     ]
    }
   ],
   "source": [
    "most_common_origin = data['Origin'].value_counts().idxmax()\n",
    "\n",
    "print(f\"Аэропорт с наибольшим количеством вылетов: {most_common_origin}\")"
   ]
  },
  {
   "cell_type": "markdown",
   "id": "92f8a42d-eaba-4841-a8d8-2334526b6552",
   "metadata": {},
   "source": [
    "5. Найдите для каждого аэропорта среднее время полета (AirTime) по всем вылетевшим из него рейсам. Какой аэропорт имеет наибольшее значение этого показателя?"
   ]
  },
  {
   "cell_type": "code",
   "execution_count": 17,
   "id": "673e7f22-4a25-4dbc-a14f-cfe4d81de248",
   "metadata": {},
   "outputs": [
    {
     "name": "stdout",
     "output_type": "stream",
     "text": [
      "Аэропорт с наибольшим средним временем полета: SJU\n",
      "Значение этого показателя: 205.2 минут\n"
     ]
    }
   ],
   "source": [
    "import pandas as pd\n",
    "\n",
    "data = pd.read_csv('/Users/polinakorshunova/Downloads/2008.csv')\n",
    "\n",
    "avg_airtime_by_origin = data.groupby('Origin')['AirTime'].mean()\n",
    "airport_with_max_avg_airtime = avg_airtime_by_origin.idxmax()\n",
    "max_avg_airtime_value = avg_airtime_by_origin.max()\n",
    "\n",
    "print(f\"Аэропорт с наибольшим средним временем полета: {airport_with_max_avg_airtime}\")\n",
    "print(f\"Значение этого показателя: {max_avg_airtime_value} минут\")"
   ]
  },
  {
   "cell_type": "markdown",
   "id": "e22514a0-8360-42d1-8b3c-23c15e4550a0",
   "metadata": {},
   "source": [
    "SJU - Международный аэропорт в городе Каролина, Пуэрто-Рико"
   ]
  },
  {
   "cell_type": "markdown",
   "id": "bae78f51-a7b9-4a10-a664-fbec059bf35b",
   "metadata": {},
   "source": [
    "6. Найдите аэропорт, у которого наибольшая доля задержанных (DepDelay > 0) рейсов. Исключите при этом из рассмотрения аэропорты, из которых было отправлено меньше 1000 рейсов (используйте функцию filter после groupby)."
   ]
  },
  {
   "cell_type": "code",
   "execution_count": 18,
   "id": "9c622fea-0ddd-45fa-a43c-09e067fd5563",
   "metadata": {},
   "outputs": [
    {
     "name": "stdout",
     "output_type": "stream",
     "text": [
      "Аэропорт с наибольшей долей задержанных рейсов (DepDelay > 0) и с более чем 1000 рейсами: EWR\n"
     ]
    }
   ],
   "source": [
    "grouped = data.groupby('Origin')\n",
    "\n",
    "filtered_grouped = grouped.filter(lambda x: len(x) >= 1000)\n",
    "\n",
    "delayed_flights = filtered_grouped[filtered_grouped['DepDelay'] > 0]\n",
    "delayed_percentage = delayed_flights.groupby('Origin').size() / filtered_grouped.groupby('Origin').size()\n",
    "\n",
    "max_delayed_airport = delayed_percentage.idxmax()\n",
    "\n",
    "print(f\"Аэропорт с наибольшей долей задержанных рейсов (DepDelay > 0) и с более чем 1000 рейсами: {max_delayed_airport}\")"
   ]
  },
  {
   "cell_type": "markdown",
   "id": "11b86813-0f42-45fa-8530-80eed9ddaa07",
   "metadata": {},
   "source": [
    "EWR - Междунаро́дный аэропо́рт Нью́арк Ли́берти, Ньюарк, Нью-Джерси"
   ]
  },
  {
   "cell_type": "markdown",
   "id": "2f5e3cb8-5468-46dd-8713-a599f7666f2e",
   "metadata": {},
   "source": [
    "## Линейная регрессия"
   ]
  },
  {
   "cell_type": "markdown",
   "id": "8c432ecc-d7b3-4829-b7e7-9e08dac431c1",
   "metadata": {},
   "source": [
    "7. Считайте выборку из файла при помощи функции pd.read_csv и ответьте на следующие вопросы:\n",
    "\n",
    "Имеются ли в данных пропущенные значения?\n",
    "\n",
    "Сколько всего пропущенных элементов в таблице \"объект-признак\"?\n",
    "\n",
    "Сколько объектов имеют хотя бы один пропуск?\n",
    "\n",
    "Сколько признаков имеют хотя бы одно пропущенное значение?"
   ]
  },
  {
   "cell_type": "code",
   "execution_count": 28,
   "id": "845e0e5b-6932-4c7a-82d1-d6608e0ab623",
   "metadata": {},
   "outputs": [
    {
     "name": "stdout",
     "output_type": "stream",
     "text": [
      "Имеются ли пропущенные значения в данных? True\n",
      "Общее количество пропущенных элементов в таблице 'объект-признак': 355215\n",
      "Количество объектов, имеющих хотя бы один пропуск: 70000\n",
      "Количество признаков, имеющих хотя бы одно пропущенное значение: 16\n"
     ]
    }
   ],
   "source": [
    "# Проверим наличие пропущенных значений в данных\n",
    "are_missing_values = data.isnull().values.any()\n",
    "\n",
    "# Посчитаем общее количество пропущенных элементов в таблице \"объект-признак\"\n",
    "total_missing_values = data.isnull().sum().sum()\n",
    "\n",
    "# Посчитаем количество объектов, имеющих хотя бы один пропуск\n",
    "objects_with_missing_values = data.isnull().any(axis=1).sum()\n",
    "\n",
    "# Посчитаем количество признаков, имеющих хотя бы одно пропущенное значение\n",
    "features_with_missing_values = data.isnull().any().sum()\n",
    "\n",
    "# Выведем ответы на ваши вопросы\n",
    "print(f\"Имеются ли пропущенные значения в данных? {are_missing_values}\")\n",
    "print(f\"Общее количество пропущенных элементов в таблице 'объект-признак': {total_missing_values}\")\n",
    "print(f\"Количество объектов, имеющих хотя бы один пропуск: {objects_with_missing_values}\")\n",
    "print(f\"Количество признаков, имеющих хотя бы одно пропущенное значение: {features_with_missing_values}\")# Проверим наличие пропущенных значений в целевой переменной\n",
    "target_variable_missing_values = data['имя_столбца_целевой_переменной'].isnull().values.any()\n",
    "\n",
    "print(f\"Имеются ли пропущенные значения в целевой переменной? {target_variable_missing_values}\")\n"
   ]
  }
 ],
 "metadata": {
  "kernelspec": {
   "display_name": "Python 3 (ipykernel)",
   "language": "python",
   "name": "python3"
  },
  "language_info": {
   "codemirror_mode": {
    "name": "ipython",
    "version": 3
   },
   "file_extension": ".py",
   "mimetype": "text/x-python",
   "name": "python",
   "nbconvert_exporter": "python",
   "pygments_lexer": "ipython3",
   "version": "3.12.2"
  }
 },
 "nbformat": 4,
 "nbformat_minor": 5
}
